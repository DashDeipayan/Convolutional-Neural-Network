{
  "nbformat": 4,
  "nbformat_minor": 0,
  "metadata": {
    "colab": {
      "name": "CNN_Using_Keras_CIFAR10.ipynb",
      "version": "0.3.2",
      "provenance": [],
      "collapsed_sections": [],
      "include_colab_link": true
    },
    "kernelspec": {
      "name": "python3",
      "display_name": "Python 3"
    },
    "accelerator": "GPU"
  },
  "cells": [
    {
      "cell_type": "markdown",
      "metadata": {
        "id": "view-in-github",
        "colab_type": "text"
      },
      "source": [
        "<a href=\"https://colab.research.google.com/github/DashDeipayan/Convolutional-Neural-Network/blob/master/CNN_Using_Keras_CIFAR10.ipynb\" target=\"_parent\"><img src=\"https://colab.research.google.com/assets/colab-badge.svg\" alt=\"Open In Colab\"/></a>"
      ]
    },
    {
      "cell_type": "code",
      "metadata": {
        "id": "4jXivnyXE6Ei",
        "colab_type": "code",
        "colab": {
          "base_uri": "https://localhost:8080/",
          "height": 34
        },
        "outputId": "aa8c71af-94c4-406d-ab51-f77ae870be93"
      },
      "source": [
        "import sys\n",
        "import numpy as np\n",
        "from keras import layers\n",
        "from keras.layers import Input, Dense, Activation, ZeroPadding2D, BatchNormalization, Flatten, Conv2D\n",
        "from keras.models import Model\n",
        "from keras.preprocessing import image\n",
        "from keras.utils import layer_utils\n",
        "from keras.utils.data_utils import get_file\n",
        "from keras.applications.imagenet_utils import preprocess_input\n",
        "\n",
        "from IPython.display import SVG\n",
        "from keras.utils.vis_utils import model_to_dot\n",
        "from keras.utils import plot_model\n",
        "from matplotlib import pyplot\n",
        "from keras.datasets import cifar10\n",
        "from keras.utils import to_categorical\n",
        "from keras.models import Sequential\n",
        "from keras.layers import Conv2D\n",
        "from keras.layers import MaxPooling2D\n",
        "from keras.layers import Dense\n",
        "from keras.layers import Flatten\n",
        "from keras.optimizers import SGD\n",
        "from keras.preprocessing.image import ImageDataGenerator\n",
        "from keras.layers import Dropout\n",
        "from matplotlib.pyplot import imshow"
      ],
      "execution_count": 9,
      "outputs": [
        {
          "output_type": "stream",
          "text": [
            "Using TensorFlow backend.\n"
          ],
          "name": "stderr"
        }
      ]
    },
    {
      "cell_type": "code",
      "metadata": {
        "id": "4c8rc-x7FIsZ",
        "colab_type": "code",
        "colab": {
          "base_uri": "https://localhost:8080/",
          "height": 51
        },
        "outputId": "a5599bbf-884e-4a9f-8337-5bd281d67475"
      },
      "source": [
        "(X_train_orig,Y_train),(X_test_orig,Y_test) = cifar10.load_data()"
      ],
      "execution_count": 10,
      "outputs": [
        {
          "output_type": "stream",
          "text": [
            "Downloading data from https://www.cs.toronto.edu/~kriz/cifar-10-python.tar.gz\n",
            "170500096/170498071 [==============================] - 6s 0us/step\n"
          ],
          "name": "stdout"
        }
      ]
    },
    {
      "cell_type": "code",
      "metadata": {
        "id": "D3HSHVqgFLh8",
        "colab_type": "code",
        "colab": {}
      },
      "source": [
        "X_train = X_train_orig/255.0\n",
        "X_test = X_test_orig/255.0\n",
        "Y=to_categorical(Y_train,num_classes=10,dtype='float32')\n",
        "Y_test = to_categorical(Y_test,num_classes =10,dtype='float32')"
      ],
      "execution_count": 0,
      "outputs": []
    },
    {
      "cell_type": "code",
      "metadata": {
        "id": "oU5OSORsFQ2Z",
        "colab_type": "code",
        "outputId": "84cef1f0-a4b4-4659-a8a6-5ad79cd72210",
        "colab": {
          "base_uri": "https://localhost:8080/",
          "height": 119
        }
      },
      "source": [
        "print (\"number of training examples = \" + str(X_train.shape[0]))\n",
        "print (\"number of test examples = \" + str(X_test.shape[0]))\n",
        "print (\"X_train shape: \" + str(X_train.shape))\n",
        "print (\"Y_train shape: \" + str(Y.shape))\n",
        "print (\"X_test shape: \" + str(X_test.shape))\n",
        "print (\"Y_test shape: \" + str(Y_test.shape))"
      ],
      "execution_count": 12,
      "outputs": [
        {
          "output_type": "stream",
          "text": [
            "number of training examples = 50000\n",
            "number of test examples = 10000\n",
            "X_train shape: (50000, 32, 32, 3)\n",
            "Y_train shape: (50000, 10)\n",
            "X_test shape: (10000, 32, 32, 3)\n",
            "Y_test shape: (10000, 10)\n"
          ],
          "name": "stdout"
        }
      ]
    },
    {
      "cell_type": "code",
      "metadata": {
        "id": "pjiISnK4FRuB",
        "colab_type": "code",
        "colab": {}
      },
      "source": [
        "def input_Model(input_shape):\n",
        "    X_input = Input(input_shape)\n",
        "    X = ZeroPadding2D((3,3))(X_input)\n",
        "    \n",
        "    X = Conv2D(32,(3,3),strides = (1,1), name = 'conv0')(X)\n",
        "    X = Activation('relu')(X)\n",
        "    X = MaxPooling2D((2,2), name = 'max_pool')(X)\n",
        "    X = Dropout((0.2), name = 'dropout')(X)\n",
        "    \n",
        "    X = Conv2D(64,(3,3),strides = (1,1))(X)\n",
        "    X = Activation('relu')(X)\n",
        "    X = MaxPooling2D((2,2))(X)\n",
        "    X = Dropout((0.2))(X)\n",
        "        \n",
        "    X = Conv2D(128,(3,3),strides = (1,1))(X)\n",
        "    X = Activation('relu')(X)\n",
        "    X = MaxPooling2D((2,2))(X)\n",
        "    X = Dropout((0.2))(X)\n",
        "    \n",
        "    X = Flatten()(X)\n",
        "    X = Dense(128, activation = 'relu')(X)\n",
        "    X = Dropout((0.2))(X)\n",
        "    X = Dense(10, activation = 'softmax')(X)\n",
        "    \n",
        "    model = Model(inputs = X_input, outputs = X, name = 'input_Model')\n",
        "    \n",
        "    return model\n",
        "    "
      ],
      "execution_count": 0,
      "outputs": []
    },
    {
      "cell_type": "code",
      "metadata": {
        "id": "PVhnuPlGFYhH",
        "colab_type": "code",
        "colab": {}
      },
      "source": [
        "inputmodel = input_Model(X_train.shape[1:])"
      ],
      "execution_count": 0,
      "outputs": []
    },
    {
      "cell_type": "code",
      "metadata": {
        "id": "CJLCvg9oFeZF",
        "colab_type": "code",
        "colab": {}
      },
      "source": [
        "inputmodel.compile(optimizer = \"adam\", loss = \"categorical_crossentropy\", metrics = [\"accuracy\"])"
      ],
      "execution_count": 0,
      "outputs": []
    },
    {
      "cell_type": "code",
      "metadata": {
        "id": "ipseZu52FiP2",
        "colab_type": "code",
        "outputId": "18ed2f8e-9933-4265-9453-d6f2c02ee39e",
        "colab": {
          "base_uri": "https://localhost:8080/",
          "height": 1000
        }
      },
      "source": [
        "inputmodel.fit(x = X_train, y = Y, epochs = 50, batch_size = 50)\n",
        "\n"
      ],
      "execution_count": 19,
      "outputs": [
        {
          "output_type": "stream",
          "text": [
            "W0709 04:54:46.679253 139892660815744 deprecation.py:323] From /usr/local/lib/python3.6/dist-packages/tensorflow/python/ops/math_grad.py:1250: add_dispatch_support.<locals>.wrapper (from tensorflow.python.ops.array_ops) is deprecated and will be removed in a future version.\n",
            "Instructions for updating:\n",
            "Use tf.where in 2.0, which has the same broadcast rule as np.where\n"
          ],
          "name": "stderr"
        },
        {
          "output_type": "stream",
          "text": [
            "Epoch 1/50\n",
            "50000/50000 [==============================] - 14s 272us/step - loss: 1.6068 - acc: 0.4124\n",
            "Epoch 2/50\n",
            "50000/50000 [==============================] - 7s 135us/step - loss: 1.2509 - acc: 0.5518\n",
            "Epoch 3/50\n",
            "50000/50000 [==============================] - 7s 135us/step - loss: 1.0976 - acc: 0.6107\n",
            "Epoch 4/50\n",
            "50000/50000 [==============================] - 7s 135us/step - loss: 0.9957 - acc: 0.6456\n",
            "Epoch 5/50\n",
            "50000/50000 [==============================] - 7s 136us/step - loss: 0.9342 - acc: 0.6712\n",
            "Epoch 6/50\n",
            "50000/50000 [==============================] - 7s 137us/step - loss: 0.8802 - acc: 0.6900\n",
            "Epoch 7/50\n",
            "50000/50000 [==============================] - 7s 139us/step - loss: 0.8366 - acc: 0.7048\n",
            "Epoch 8/50\n",
            "50000/50000 [==============================] - 7s 138us/step - loss: 0.8026 - acc: 0.7170\n",
            "Epoch 9/50\n",
            "50000/50000 [==============================] - 7s 135us/step - loss: 0.7778 - acc: 0.7241\n",
            "Epoch 10/50\n",
            "50000/50000 [==============================] - 7s 135us/step - loss: 0.7540 - acc: 0.7341\n",
            "Epoch 11/50\n",
            "50000/50000 [==============================] - 7s 134us/step - loss: 0.7330 - acc: 0.7403\n",
            "Epoch 12/50\n",
            "50000/50000 [==============================] - 7s 135us/step - loss: 0.7086 - acc: 0.7469\n",
            "Epoch 13/50\n",
            "50000/50000 [==============================] - 7s 135us/step - loss: 0.7024 - acc: 0.7515\n",
            "Epoch 14/50\n",
            "50000/50000 [==============================] - 7s 134us/step - loss: 0.6816 - acc: 0.7592\n",
            "Epoch 15/50\n",
            "50000/50000 [==============================] - 7s 135us/step - loss: 0.6743 - acc: 0.7641\n",
            "Epoch 16/50\n",
            "50000/50000 [==============================] - 7s 134us/step - loss: 0.6632 - acc: 0.7631\n",
            "Epoch 17/50\n",
            "50000/50000 [==============================] - 7s 136us/step - loss: 0.6400 - acc: 0.7733\n",
            "Epoch 18/50\n",
            "50000/50000 [==============================] - 7s 136us/step - loss: 0.6408 - acc: 0.7727\n",
            "Epoch 19/50\n",
            "50000/50000 [==============================] - 7s 136us/step - loss: 0.6304 - acc: 0.7773\n",
            "Epoch 20/50\n",
            "50000/50000 [==============================] - 7s 135us/step - loss: 0.6216 - acc: 0.7801\n",
            "Epoch 21/50\n",
            "50000/50000 [==============================] - 7s 136us/step - loss: 0.6073 - acc: 0.7848\n",
            "Epoch 22/50\n",
            "50000/50000 [==============================] - 7s 137us/step - loss: 0.5977 - acc: 0.7892\n",
            "Epoch 23/50\n",
            "50000/50000 [==============================] - 7s 136us/step - loss: 0.5941 - acc: 0.7887\n",
            "Epoch 24/50\n",
            "50000/50000 [==============================] - 7s 137us/step - loss: 0.5871 - acc: 0.7905\n",
            "Epoch 25/50\n",
            "50000/50000 [==============================] - 7s 137us/step - loss: 0.5824 - acc: 0.7930\n",
            "Epoch 26/50\n",
            "50000/50000 [==============================] - 7s 136us/step - loss: 0.5790 - acc: 0.7945\n",
            "Epoch 27/50\n",
            "50000/50000 [==============================] - 7s 137us/step - loss: 0.5693 - acc: 0.7978\n",
            "Epoch 28/50\n",
            "50000/50000 [==============================] - 7s 137us/step - loss: 0.5646 - acc: 0.7982\n",
            "Epoch 29/50\n",
            "50000/50000 [==============================] - 7s 137us/step - loss: 0.5601 - acc: 0.7998\n",
            "Epoch 30/50\n",
            "50000/50000 [==============================] - 7s 137us/step - loss: 0.5616 - acc: 0.8010\n",
            "Epoch 31/50\n",
            "50000/50000 [==============================] - 7s 136us/step - loss: 0.5446 - acc: 0.8059\n",
            "Epoch 32/50\n",
            "50000/50000 [==============================] - 7s 136us/step - loss: 0.5416 - acc: 0.8056\n",
            "Epoch 33/50\n",
            "50000/50000 [==============================] - 7s 136us/step - loss: 0.5386 - acc: 0.8090\n",
            "Epoch 34/50\n",
            "50000/50000 [==============================] - 7s 136us/step - loss: 0.5396 - acc: 0.8088\n",
            "Epoch 35/50\n",
            "50000/50000 [==============================] - 7s 136us/step - loss: 0.5296 - acc: 0.8109\n",
            "Epoch 36/50\n",
            "50000/50000 [==============================] - 7s 137us/step - loss: 0.5334 - acc: 0.8106\n",
            "Epoch 37/50\n",
            "50000/50000 [==============================] - 7s 138us/step - loss: 0.5201 - acc: 0.8149\n",
            "Epoch 38/50\n",
            "50000/50000 [==============================] - 7s 136us/step - loss: 0.5226 - acc: 0.8155\n",
            "Epoch 39/50\n",
            "50000/50000 [==============================] - 7s 136us/step - loss: 0.5238 - acc: 0.8152\n",
            "Epoch 40/50\n",
            "50000/50000 [==============================] - 7s 136us/step - loss: 0.5199 - acc: 0.8155\n",
            "Epoch 41/50\n",
            "50000/50000 [==============================] - 7s 137us/step - loss: 0.5154 - acc: 0.8160\n",
            "Epoch 42/50\n",
            "50000/50000 [==============================] - 7s 136us/step - loss: 0.5037 - acc: 0.8199\n",
            "Epoch 43/50\n",
            "50000/50000 [==============================] - 7s 135us/step - loss: 0.4994 - acc: 0.8224\n",
            "Epoch 44/50\n",
            "50000/50000 [==============================] - 7s 136us/step - loss: 0.5022 - acc: 0.8187\n",
            "Epoch 45/50\n",
            "50000/50000 [==============================] - 7s 139us/step - loss: 0.4942 - acc: 0.8221\n",
            "Epoch 46/50\n",
            "50000/50000 [==============================] - 7s 139us/step - loss: 0.5024 - acc: 0.8222\n",
            "Epoch 47/50\n",
            "50000/50000 [==============================] - 7s 136us/step - loss: 0.4962 - acc: 0.8228\n",
            "Epoch 48/50\n",
            "50000/50000 [==============================] - 7s 136us/step - loss: 0.4926 - acc: 0.8247\n",
            "Epoch 49/50\n",
            "50000/50000 [==============================] - 7s 136us/step - loss: 0.4880 - acc: 0.8254\n",
            "Epoch 50/50\n",
            "50000/50000 [==============================] - 7s 138us/step - loss: 0.4861 - acc: 0.8278\n"
          ],
          "name": "stdout"
        },
        {
          "output_type": "execute_result",
          "data": {
            "text/plain": [
              "<keras.callbacks.History at 0x7f3b01a23400>"
            ]
          },
          "metadata": {
            "tags": []
          },
          "execution_count": 19
        }
      ]
    },
    {
      "cell_type": "code",
      "metadata": {
        "id": "gUHiXBvXHOnv",
        "colab_type": "code",
        "outputId": "28c47315-76ba-4848-ec93-4875f33453a1",
        "colab": {
          "base_uri": "https://localhost:8080/",
          "height": 85
        }
      },
      "source": [
        "preds = inputmodel.evaluate(X_test, Y_test)\n",
        "print()\n",
        "print (\"Loss = \" + str(preds[0]))\n",
        "print (\"Test Accuracy = \" + str(preds[1]))"
      ],
      "execution_count": 20,
      "outputs": [
        {
          "output_type": "stream",
          "text": [
            "10000/10000 [==============================] - 1s 97us/step\n",
            "\n",
            "Loss = 0.6184153127193451\n",
            "Test Accuracy = 0.7947\n"
          ],
          "name": "stdout"
        }
      ]
    },
    {
      "cell_type": "code",
      "metadata": {
        "id": "pFItpRyBMqzk",
        "colab_type": "code",
        "outputId": "35e341f2-066d-4c2b-8995-2fa0f88f8134",
        "colab": {
          "base_uri": "https://localhost:8080/",
          "height": 34
        }
      },
      "source": [
        "from google.colab import drive\n",
        "drive.mount('/content/drive')"
      ],
      "execution_count": 21,
      "outputs": [
        {
          "output_type": "stream",
          "text": [
            "Drive already mounted at /content/drive; to attempt to forcibly remount, call drive.mount(\"/content/drive\", force_remount=True).\n"
          ],
          "name": "stdout"
        }
      ]
    },
    {
      "cell_type": "code",
      "metadata": {
        "id": "SWebh4QaNQT4",
        "colab_type": "code",
        "colab": {}
      },
      "source": [
        "!cp \"/content/drive/My Drive/Colab Notebooks/iu.jpeg\" \"iu.jpeg\""
      ],
      "execution_count": 0,
      "outputs": []
    },
    {
      "cell_type": "code",
      "metadata": {
        "id": "0-RYEuwUHVnb",
        "colab_type": "code",
        "outputId": "29355506-0513-453f-bf88-cec3c9071915",
        "colab": {
          "base_uri": "https://localhost:8080/",
          "height": 286
        }
      },
      "source": [
        "img_path  = \"iu.jpeg\" \n",
        "img = image.load_img(img_path, target_size=(32, 32))\n",
        "imshow(img)\n",
        "\n",
        "x = image.img_to_array(img)\n",
        "x = np.expand_dims(x, axis=0)\n",
        "x = preprocess_input(x)\n",
        "\n",
        "print(inputmodel.predict(x))"
      ],
      "execution_count": 23,
      "outputs": [
        {
          "output_type": "stream",
          "text": [
            "[[1. 0. 0. 0. 0. 0. 0. 0. 0. 0.]]\n"
          ],
          "name": "stdout"
        },
        {
          "output_type": "display_data",
          "data": {
            "image/png": "[encoded data removed]",
            "text/plain": [
              "<Figure size 432x288 with 1 Axes>"
            ]
          },
          "metadata": {
            "tags": []
          }
        }
      ]
    },
    {
      "cell_type": "code",
      "metadata": {
        "id": "JnmtiqlRT35z",
        "colab_type": "code",
        "colab": {}
      },
      "source": [
        "op=inputmodel.predict(x)"
      ],
      "execution_count": 0,
      "outputs": []
    },
    {
      "cell_type": "code",
      "metadata": {
        "id": "Z7CGQg5SUBw5",
        "colab_type": "code",
        "outputId": "12f92d62-9d04-43bc-acf9-e111d932c7e6",
        "colab": {
          "base_uri": "https://localhost:8080/",
          "height": 34
        }
      },
      "source": [
        "np.argmax(op)+1"
      ],
      "execution_count": 25,
      "outputs": [
        {
          "output_type": "execute_result",
          "data": {
            "text/plain": [
              "1"
            ]
          },
          "metadata": {
            "tags": []
          },
          "execution_count": 25
        }
      ]
    },
    {
      "cell_type": "code",
      "metadata": {
        "id": "rqgi-BqxHW93",
        "colab_type": "code",
        "colab": {
          "base_uri": "https://localhost:8080/",
          "height": 34
        },
        "outputId": "60f1f7d6-52b6-4c11-b08d-51b097c096e7"
      },
      "source": [
        "listName = [\"Aeroplane\",\"Automobile\",\"Bird\",\"Cat\",\"Deer\",\"Dog\",\"Frog\",\"Horse\",\"Ship\",\"Truck\"]\n",
        "print(listName[np.argmax(op)])"
      ],
      "execution_count": 26,
      "outputs": [
        {
          "output_type": "stream",
          "text": [
            "Aeroplane\n"
          ],
          "name": "stdout"
        }
      ]
    }
  ]
}